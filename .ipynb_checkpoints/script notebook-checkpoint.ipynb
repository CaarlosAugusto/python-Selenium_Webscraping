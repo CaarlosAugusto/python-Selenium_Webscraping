{
 "cells": [
  {
   "cell_type": "code",
   "execution_count": 1,
   "metadata": {},
   "outputs": [],
   "source": [
    "import requests\n",
    "import bs4\n",
    "import time\n",
    "#Code to how search something in python using selenium anc coverting to bs4\n",
    "from selenium import webdriver\n",
    "from selenium.webdriver.common.keys import Keys\n",
    "from selenium.webdriver.support.ui import Select\n",
    "from selenium.webdriver.support.ui import WebDriverWait\n",
    "from selenium.webdriver.firefox.firefox_binary import FirefoxBinary"
   ]
  },
  {
   "cell_type": "code",
   "execution_count": 3,
   "metadata": {},
   "outputs": [
    {
     "name": "stdout",
     "output_type": "stream",
     "text": [
      "What's theme you want to see the 3 videos most viewed in Youtube? como ganhar dinheiro no instagram\n",
      "[]\n"
     ]
    }
   ],
   "source": [
    "url = 'https://www.youtube.com'\n",
    "\n",
    "theme = input(\"What's theme you want to see the 3 videos most viewed in Youtube? \")\n",
    "\n",
    "binary = FirefoxBinary(\"C:\\\\Program Files\\\\Mozilla Firefox\\\\firefox.exe\")\n",
    "driver = webdriver.Firefox(firefox_binary=binary, executable_path=r\"C:\\\\geckodriver.exe\")\n",
    "\n",
    "driver.get(url)\n",
    "\n",
    "search_input = driver.find_elements_by_id(\"search\")[1]\n",
    "search_input.send_keys(theme)\n",
    "time.sleep(5)\n",
    "search_button = driver.find_element_by_id(\"search-icon-legacy\")\n",
    "search_button.click()\n",
    "time.sleep(5)\n",
    "\n",
    "url = str(driver.current_url) + '&sp=CAM%253D'\n",
    "\n",
    "driver.get(url)\n",
    "time.sleep(5)\n",
    "\n",
    "soup = bs4.BeautifulSoup(driver.page_source, 'lxml')\n",
    "links = driver.find_elements_by_id(\"style-scope ytd-video-renderer\")\n",
    "\n",
    "print(links)"
   ]
  },
  {
   "cell_type": "code",
   "execution_count": 67,
   "metadata": {},
   "outputs": [
    {
     "data": {
      "text/plain": [
       "'2 Formas FÁCEIS de Como Ganhar Seguidores no Instagram (583 seguidores por dia!) Joba há 1 ano 14 minutos e 35 segundos 1.955.541 visualizações'"
      ]
     },
     "execution_count": 67,
     "metadata": {},
     "output_type": "execute_result"
    }
   ],
   "source": [
    "div = soup.select(\"#title-wrapper\")\n",
    "a = div[1].select(\"a\")\n",
    "a[0].get(\"aria-label\")"
   ]
  },
  {
   "cell_type": "code",
   "execution_count": 70,
   "metadata": {},
   "outputs": [
    {
     "name": "stdout",
     "output_type": "stream",
     "text": [
      "['2 Formas FÁCEIS de Como Ganhar Seguidores no Instagram (583 seguidores por dia!) Joba há 1 ano 14 minutos e 35 segundos 1.955.541 visualizações', '7 FORMAS DE GANHAR DINHEIRO NA INTERNET! (COMPROVADAS e que QUALQUER UM pode fazer) O Primo Rico há 11 meses 13 minutos e 30 segundos 1.373.915 visualizações', 'QUANTO GANHA UM INFLUENCIADOR DIGITAL? | Descubra como ganhar dinheiro com INSTAGRAM Empiricus há 6 meses 2 minutos e 20 segundos 1.018.167 visualizações']\n"
     ]
    }
   ],
   "source": [
    "mylist = []\n",
    "for i in range(1,4):\n",
    "    div = soup.select(\"#title-wrapper\")\n",
    "    a = div[i].select(\"a\")\n",
    "    mylist.append(a[0].get('aria-label'))\n",
    "print(mylist)"
   ]
  },
  {
   "cell_type": "code",
   "execution_count": 88,
   "metadata": {},
   "outputs": [
    {
     "name": "stdout",
     "output_type": "stream",
     "text": [
      "['2 Formas FÁCEIS de Como Ganhar Seguidores no Instagram (583 seguidores por dia!) Joba ', '7 FORMAS DE GANHAR DINHEIRO NA INTERNET! (COMPROVADAS e que QUALQUER UM pode fazer) O Primo Rico ', 'QUANTO GANHA UM INFLUENCIADOR DIGITAL? | Descubra como ganhar dinheiro com INSTAGRAM Empiricus ']\n",
      "['há 1 ano 14 minutos e 35 segundos 1.955.541 visualizações ', 'há 11 meses 13 minutos e 30 segundos 1.373.915 visualizações ', 'há 6 meses 2 minutos e 20 segundos 1.018.167 visualizações ']\n"
     ]
    }
   ],
   "source": [
    "list_name = []\n",
    "info = []\n",
    "for each in mylist:\n",
    "    text = each.split(\" \")\n",
    "    max_length = len(text)\n",
    "    name = ''\n",
    "    information = ''\n",
    "    for each in text[:-10]:\n",
    "        name = name + each + \" \"\n",
    "    list_name.append(name)\n",
    "    for each in text[-10:]:\n",
    "        information = information + each + \" \"\n",
    "    info.append(information)\n",
    "print(list_name)\n",
    "print(info)"
   ]
  },
  {
   "cell_type": "code",
   "execution_count": 94,
   "metadata": {},
   "outputs": [
    {
     "name": "stdout",
     "output_type": "stream",
     "text": [
      "Resultados: \n",
      "Video name: 2 Formas FÁCEIS de Como Ganhar Seguidores no Instagram (583 seguidores por dia!) Joba \n",
      "Upload data and views: há 1 ano 14 minutos e 35 segundos 1.955.541 visualizações \n",
      "\n",
      "Video name: 7 FORMAS DE GANHAR DINHEIRO NA INTERNET! (COMPROVADAS e que QUALQUER UM pode fazer) O Primo Rico \n",
      "Upload data and views: há 11 meses 13 minutos e 30 segundos 1.373.915 visualizações \n",
      "\n",
      "Video name: QUANTO GANHA UM INFLUENCIADOR DIGITAL? | Descubra como ganhar dinheiro com INSTAGRAM Empiricus \n",
      "Upload data and views: há 6 meses 2 minutos e 20 segundos 1.018.167 visualizações \n",
      "\n"
     ]
    }
   ],
   "source": [
    "print(\"Resultados: \")\n",
    "for i in range(0,3):\n",
    "    print(\"Video name: {}\\nUpload data and views: {}\\n\".format(list_name[i], info[i]))\n",
    "    i+=1"
   ]
  },
  {
   "cell_type": "code",
   "execution_count": null,
   "metadata": {},
   "outputs": [],
   "source": []
  }
 ],
 "metadata": {
  "kernelspec": {
   "display_name": "Python 3",
   "language": "python",
   "name": "python3"
  },
  "language_info": {
   "codemirror_mode": {
    "name": "ipython",
    "version": 3
   },
   "file_extension": ".py",
   "mimetype": "text/x-python",
   "name": "python",
   "nbconvert_exporter": "python",
   "pygments_lexer": "ipython3",
   "version": "3.8.5"
  }
 },
 "nbformat": 4,
 "nbformat_minor": 4
}
